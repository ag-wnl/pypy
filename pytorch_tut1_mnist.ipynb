{
  "nbformat": 4,
  "nbformat_minor": 0,
  "metadata": {
    "colab": {
      "provenance": [],
      "authorship_tag": "ABX9TyMeVybgvGefUL9NZepJJBBb",
      "include_colab_link": true
    },
    "kernelspec": {
      "name": "python3",
      "display_name": "Python 3"
    },
    "language_info": {
      "name": "python"
    }
  },
  "cells": [
    {
      "cell_type": "markdown",
      "metadata": {
        "id": "view-in-github",
        "colab_type": "text"
      },
      "source": [
        "<a href=\"https://colab.research.google.com/github/ag-wnl/pypy/blob/main/pytorch_tut1_mnist.ipynb\" target=\"_parent\"><img src=\"https://colab.research.google.com/assets/colab-badge.svg\" alt=\"Open In Colab\"/></a>"
      ]
    },
    {
      "cell_type": "code",
      "execution_count": 34,
      "metadata": {
        "id": "WFLLFvwHD_HY"
      },
      "outputs": [],
      "source": [
        "import torch\n",
        "from torch import nn\n",
        "from torch.utils.data import DataLoader\n",
        "from torchvision import datasets\n",
        "from torchvision.transforms import ToTensor\n",
        "\n",
        "import matplotlib.pyplot as plt"
      ]
    },
    {
      "cell_type": "code",
      "source": [
        "training_data = datasets.FashionMNIST(\n",
        "    root = 'data',\n",
        "    train = True,\n",
        "    download = True,\n",
        "    transform = ToTensor(),\n",
        ")"
      ],
      "metadata": {
        "colab": {
          "base_uri": "https://localhost:8080/"
        },
        "id": "2Da4E1lMHIIq",
        "outputId": "9ed7b8a3-c23c-4ed4-aecb-6405b4a5cd62"
      },
      "execution_count": 6,
      "outputs": [
        {
          "output_type": "stream",
          "name": "stdout",
          "text": [
            "Downloading http://fashion-mnist.s3-website.eu-central-1.amazonaws.com/train-images-idx3-ubyte.gz\n",
            "Downloading http://fashion-mnist.s3-website.eu-central-1.amazonaws.com/train-images-idx3-ubyte.gz to data/FashionMNIST/raw/train-images-idx3-ubyte.gz\n"
          ]
        },
        {
          "output_type": "stream",
          "name": "stderr",
          "text": [
            "100%|██████████| 26421880/26421880 [00:01<00:00, 16322439.22it/s]\n"
          ]
        },
        {
          "output_type": "stream",
          "name": "stdout",
          "text": [
            "Extracting data/FashionMNIST/raw/train-images-idx3-ubyte.gz to data/FashionMNIST/raw\n",
            "\n",
            "Downloading http://fashion-mnist.s3-website.eu-central-1.amazonaws.com/train-labels-idx1-ubyte.gz\n",
            "Downloading http://fashion-mnist.s3-website.eu-central-1.amazonaws.com/train-labels-idx1-ubyte.gz to data/FashionMNIST/raw/train-labels-idx1-ubyte.gz\n"
          ]
        },
        {
          "output_type": "stream",
          "name": "stderr",
          "text": [
            "100%|██████████| 29515/29515 [00:00<00:00, 300443.85it/s]\n"
          ]
        },
        {
          "output_type": "stream",
          "name": "stdout",
          "text": [
            "Extracting data/FashionMNIST/raw/train-labels-idx1-ubyte.gz to data/FashionMNIST/raw\n",
            "\n",
            "Downloading http://fashion-mnist.s3-website.eu-central-1.amazonaws.com/t10k-images-idx3-ubyte.gz\n",
            "Downloading http://fashion-mnist.s3-website.eu-central-1.amazonaws.com/t10k-images-idx3-ubyte.gz to data/FashionMNIST/raw/t10k-images-idx3-ubyte.gz\n"
          ]
        },
        {
          "output_type": "stream",
          "name": "stderr",
          "text": [
            "100%|██████████| 4422102/4422102 [00:00<00:00, 5550958.63it/s]\n"
          ]
        },
        {
          "output_type": "stream",
          "name": "stdout",
          "text": [
            "Extracting data/FashionMNIST/raw/t10k-images-idx3-ubyte.gz to data/FashionMNIST/raw\n",
            "\n",
            "Downloading http://fashion-mnist.s3-website.eu-central-1.amazonaws.com/t10k-labels-idx1-ubyte.gz\n",
            "Downloading http://fashion-mnist.s3-website.eu-central-1.amazonaws.com/t10k-labels-idx1-ubyte.gz to data/FashionMNIST/raw/t10k-labels-idx1-ubyte.gz\n"
          ]
        },
        {
          "output_type": "stream",
          "name": "stderr",
          "text": [
            "100%|██████████| 5148/5148 [00:00<00:00, 11424485.18it/s]\n"
          ]
        },
        {
          "output_type": "stream",
          "name": "stdout",
          "text": [
            "Extracting data/FashionMNIST/raw/t10k-labels-idx1-ubyte.gz to data/FashionMNIST/raw\n",
            "\n"
          ]
        }
      ]
    },
    {
      "cell_type": "code",
      "source": [
        "test_data = datasets.FashionMNIST(\n",
        "    root=\"data\",\n",
        "    train=False,\n",
        "    download=True,\n",
        "    transform=ToTensor(),\n",
        ")"
      ],
      "metadata": {
        "id": "Pjz7do3tJKGA"
      },
      "execution_count": 8,
      "outputs": []
    },
    {
      "cell_type": "code",
      "source": [
        "plt.imshow(test_data[1][0][0])"
      ],
      "metadata": {
        "colab": {
          "base_uri": "https://localhost:8080/",
          "height": 447
        },
        "id": "3O41-BSKcXSM",
        "outputId": "1efb601f-278d-431d-e32f-0dec5645cce7"
      },
      "execution_count": 58,
      "outputs": [
        {
          "output_type": "execute_result",
          "data": {
            "text/plain": [
              "<matplotlib.image.AxesImage at 0x7e881c74bc40>"
            ]
          },
          "metadata": {},
          "execution_count": 58
        },
        {
          "output_type": "display_data",
          "data": {
            "text/plain": [
              "<Figure size 640x480 with 1 Axes>"
            ],
            "image/png": "[encoded data removed]"
          },
          "metadata": {}
        }
      ]
    },
    {
      "cell_type": "markdown",
      "source": [
        "####Loading Datasets"
      ],
      "metadata": {
        "id": "2vUZ1XX3KyQX"
      }
    },
    {
      "cell_type": "code",
      "source": [
        "batch_size = 64\n",
        "\n",
        "train_dataloader = DataLoader(training_data, batch_size = batch_size)\n",
        "test_dataloader = DataLoader(test_data, batch_size = batch_size)\n",
        "\n",
        "for X, y in test_dataloader:\n",
        "  print(f\"X dimensions: {X.shape}\")\n",
        "  print(f\"y dimensions: {y.shape}\")\n",
        "  break"
      ],
      "metadata": {
        "colab": {
          "base_uri": "https://localhost:8080/"
        },
        "id": "2bSk9oDLJZW4",
        "outputId": "4954db02-b393-45b7-bd48-9cb4c60df3cc"
      },
      "execution_count": 12,
      "outputs": [
        {
          "output_type": "stream",
          "name": "stdout",
          "text": [
            "X dimensions: torch.Size([64, 1, 28, 28])\n",
            "y dimensions: torch.Size([64])\n"
          ]
        }
      ]
    },
    {
      "cell_type": "markdown",
      "source": [
        "##Defining Model"
      ],
      "metadata": {
        "id": "-qMFpLR9K201"
      }
    },
    {
      "cell_type": "code",
      "source": [
        "device = (\n",
        "    \"cuda\"\n",
        "    if torch.cuda.is_available()\n",
        "    else \"mps\"\n",
        "    if torch.backends.mps.is_available()\n",
        "    else \"cpu\"\n",
        ")\n",
        "print(f\"using device: {device}\")"
      ],
      "metadata": {
        "colab": {
          "base_uri": "https://localhost:8080/"
        },
        "id": "kUcnQ4TXKgiR",
        "outputId": "ac899352-60e1-4d52-c06b-ede5c6fcd2e9"
      },
      "execution_count": 14,
      "outputs": [
        {
          "output_type": "stream",
          "name": "stdout",
          "text": [
            "using device: cpu\n"
          ]
        }
      ]
    },
    {
      "cell_type": "code",
      "source": [
        "class NeuralNetwork(nn.Module):\n",
        "  def __init__(self):\n",
        "    super().__init__()\n",
        "    self.flatten = nn.Flatten()\n",
        "    self.linear_relu_stack = nn.Sequential(\n",
        "        nn.Linear(in_features = 28*28, out_features = 512),\n",
        "        nn.ReLU(),\n",
        "        nn.Linear(in_features = 512, out_features = 512),\n",
        "        nn.ReLU(),\n",
        "        nn.Linear(in_features = 512, out_features = 10)\n",
        "    )\n",
        "\n",
        "  def forward(self, x):\n",
        "    x = self.flatten(x)\n",
        "    logits = self.linear_relu_stack(x)\n",
        "    return logits\n",
        "\n",
        "model = NeuralNetwork().to(device)\n",
        "print(model)"
      ],
      "metadata": {
        "colab": {
          "base_uri": "https://localhost:8080/"
        },
        "id": "AiTJo9zQLRfC",
        "outputId": "ad061367-480b-4151-c065-202c61178f26"
      },
      "execution_count": 29,
      "outputs": [
        {
          "output_type": "stream",
          "name": "stdout",
          "text": [
            "NeuralNetwork(\n",
            "  (flatten): Flatten(start_dim=1, end_dim=-1)\n",
            "  (linear_relu_stack): Sequential(\n",
            "    (0): Linear(in_features=784, out_features=512, bias=True)\n",
            "    (1): ReLU()\n",
            "    (2): Linear(in_features=512, out_features=512, bias=True)\n",
            "    (3): ReLU()\n",
            "    (4): Linear(in_features=512, out_features=10, bias=True)\n",
            "  )\n",
            ")\n"
          ]
        }
      ]
    },
    {
      "cell_type": "code",
      "source": [
        "loss_fn = nn.CrossEntropyLoss()\n",
        "optimizer = torch.optim.Adam(params = model.parameters(), lr = 1e-3)"
      ],
      "metadata": {
        "id": "4GVL3DkrM9fx"
      },
      "execution_count": 35,
      "outputs": []
    },
    {
      "cell_type": "markdown",
      "source": [
        "###Training our Model"
      ],
      "metadata": {
        "id": "UYNBf9JmNqQo"
      }
    },
    {
      "cell_type": "code",
      "source": [
        "def train(dataloader, model, loss_fn, optimizer):\n",
        "  size = len(dataloader.dataset)\n",
        "  model.train()\n",
        "\n",
        "  for batch, (X, y) in enumerate(dataloader):\n",
        "    X, y = X.to(device), y.to(device)\n",
        "    pred = model(X)\n",
        "    loss = loss_fn(pred, y)\n",
        "\n",
        "    #backprop\n",
        "    loss.backward()\n",
        "    optimizer.step()\n",
        "    optimizer.zero_grad()\n",
        "\n",
        "    if batch%100 == 0:\n",
        "      loss, current = loss.item(), (batch+1)*len(X)\n",
        "      print(f\"Current Loss: {loss} [{current} / {size}]\")"
      ],
      "metadata": {
        "id": "NCe7KacFNppy"
      },
      "execution_count": 36,
      "outputs": []
    },
    {
      "cell_type": "code",
      "source": [
        "def test(dataloader, model, loss_fn):\n",
        "  size = len(dataloader.dataset)\n",
        "  num_batches = len(dataloader)\n",
        "  model.eval()\n",
        "  test_loss, correct = 0, 0\n",
        "  with torch.no_grad():\n",
        "        for X, y in dataloader:\n",
        "            X, y = X.to(device), y.to(device)\n",
        "            pred = model(X)\n",
        "            test_loss += loss_fn(pred, y).item()\n",
        "            correct += (pred.argmax(1) == y).type(torch.float).sum().item()\n",
        "  test_loss /= num_batches\n",
        "  correct /= size\n",
        "  print(f\"Test Error: \\n Accuracy: {(100*correct):>0.1f}%, Avg loss: {test_loss:>8f} \\n\")"
      ],
      "metadata": {
        "id": "eot2F0BLN9tF"
      },
      "execution_count": 37,
      "outputs": []
    },
    {
      "cell_type": "markdown",
      "source": [
        "##Testing our Model"
      ],
      "metadata": {
        "id": "k1hENbTKRPsT"
      }
    },
    {
      "cell_type": "code",
      "source": [
        "epochs = 5\n",
        "\n",
        "for i in range(epochs):\n",
        "  print(f\"Epoch {i+1}\\n-------------------------------\")\n",
        "  train(train_dataloader, model, loss_fn, optimizer)\n",
        "  test(test_dataloader, model, loss_fn)\n",
        "\n",
        "print(\"Completed Successfully-!\")"
      ],
      "metadata": {
        "colab": {
          "base_uri": "https://localhost:8080/"
        },
        "id": "U-PUgEtJQ7-S",
        "outputId": "342010bf-bc42-4f53-c94f-44c13053261b"
      },
      "execution_count": 38,
      "outputs": [
        {
          "output_type": "stream",
          "name": "stdout",
          "text": [
            "Epoch 1\n",
            "-------------------------------\n",
            "Current Loss: 1.1426804065704346 [64 / 60000]\n",
            "Current Loss: 0.5463211536407471 [6464 / 60000]\n",
            "Current Loss: 0.3932083547115326 [12864 / 60000]\n",
            "Current Loss: 0.5059975385665894 [19264 / 60000]\n",
            "Current Loss: 0.46293219923973083 [25664 / 60000]\n",
            "Current Loss: 0.4225388169288635 [32064 / 60000]\n",
            "Current Loss: 0.37109237909317017 [38464 / 60000]\n",
            "Current Loss: 0.5224191546440125 [44864 / 60000]\n",
            "Current Loss: 0.4935988783836365 [51264 / 60000]\n",
            "Current Loss: 0.5067471265792847 [57664 / 60000]\n",
            "Test Error: \n",
            " Accuracy: 84.5%, Avg loss: 0.423053 \n",
            "\n",
            "Epoch 2\n",
            "-------------------------------\n",
            "Current Loss: 0.28076159954071045 [64 / 60000]\n",
            "Current Loss: 0.34526583552360535 [6464 / 60000]\n",
            "Current Loss: 0.279508113861084 [12864 / 60000]\n",
            "Current Loss: 0.37505507469177246 [19264 / 60000]\n",
            "Current Loss: 0.4330964684486389 [25664 / 60000]\n",
            "Current Loss: 0.3615266680717468 [32064 / 60000]\n",
            "Current Loss: 0.3151501417160034 [38464 / 60000]\n",
            "Current Loss: 0.49417614936828613 [44864 / 60000]\n",
            "Current Loss: 0.39744627475738525 [51264 / 60000]\n",
            "Current Loss: 0.44844233989715576 [57664 / 60000]\n",
            "Test Error: \n",
            " Accuracy: 85.9%, Avg loss: 0.382696 \n",
            "\n",
            "Epoch 3\n",
            "-------------------------------\n",
            "Current Loss: 0.21520628035068512 [64 / 60000]\n",
            "Current Loss: 0.3106042742729187 [6464 / 60000]\n",
            "Current Loss: 0.23195509612560272 [12864 / 60000]\n",
            "Current Loss: 0.3215937912464142 [19264 / 60000]\n",
            "Current Loss: 0.35801222920417786 [25664 / 60000]\n",
            "Current Loss: 0.3359496295452118 [32064 / 60000]\n",
            "Current Loss: 0.27481427788734436 [38464 / 60000]\n",
            "Current Loss: 0.4458133280277252 [44864 / 60000]\n",
            "Current Loss: 0.3287889361381531 [51264 / 60000]\n",
            "Current Loss: 0.38734397292137146 [57664 / 60000]\n",
            "Test Error: \n",
            " Accuracy: 86.2%, Avg loss: 0.377880 \n",
            "\n",
            "Epoch 4\n",
            "-------------------------------\n",
            "Current Loss: 0.22391702234745026 [64 / 60000]\n",
            "Current Loss: 0.27578413486480713 [6464 / 60000]\n",
            "Current Loss: 0.20052693784236908 [12864 / 60000]\n",
            "Current Loss: 0.2747809588909149 [19264 / 60000]\n",
            "Current Loss: 0.37889018654823303 [25664 / 60000]\n",
            "Current Loss: 0.33757251501083374 [32064 / 60000]\n",
            "Current Loss: 0.2448308914899826 [38464 / 60000]\n",
            "Current Loss: 0.41845911741256714 [44864 / 60000]\n",
            "Current Loss: 0.27603983879089355 [51264 / 60000]\n",
            "Current Loss: 0.32482895255088806 [57664 / 60000]\n",
            "Test Error: \n",
            " Accuracy: 86.9%, Avg loss: 0.358574 \n",
            "\n",
            "Epoch 5\n",
            "-------------------------------\n",
            "Current Loss: 0.18618853390216827 [64 / 60000]\n",
            "Current Loss: 0.25415563583374023 [6464 / 60000]\n",
            "Current Loss: 0.19721949100494385 [12864 / 60000]\n",
            "Current Loss: 0.21525555849075317 [19264 / 60000]\n",
            "Current Loss: 0.3473532199859619 [25664 / 60000]\n",
            "Current Loss: 0.32850486040115356 [32064 / 60000]\n",
            "Current Loss: 0.22758960723876953 [38464 / 60000]\n",
            "Current Loss: 0.3547939360141754 [44864 / 60000]\n",
            "Current Loss: 0.28490155935287476 [51264 / 60000]\n",
            "Current Loss: 0.30582675337791443 [57664 / 60000]\n",
            "Test Error: \n",
            " Accuracy: 87.5%, Avg loss: 0.342015 \n",
            "\n",
            "Completed Successfully-!\n"
          ]
        }
      ]
    },
    {
      "cell_type": "markdown",
      "source": [
        "Testing our Model"
      ],
      "metadata": {
        "id": "LdPKBd4udLc7"
      }
    },
    {
      "cell_type": "code",
      "source": [
        "classes = [\n",
        "    \"T-shirt/top\",\n",
        "    \"Trouser\",\n",
        "    \"Pullover\",\n",
        "    \"Dress\",\n",
        "    \"Coat\",\n",
        "    \"Sandal\",\n",
        "    \"Shirt\",\n",
        "    \"Sneaker\",\n",
        "    \"Bag\",\n",
        "    \"Ankle boot\",\n",
        "]\n",
        "\n",
        "model.eval()\n",
        "x, y = test_data[0][0], test_data[0][1]\n",
        "with torch.no_grad():\n",
        "    x = x.to(device)\n",
        "    pred = model(x)\n",
        "    predicted, actual = classes[pred[0].argmax(0)], classes[y]\n",
        "    print(f'Predicted: \"{predicted}\", Actual: \"{actual}\"')"
      ],
      "metadata": {
        "colab": {
          "base_uri": "https://localhost:8080/"
        },
        "id": "StYOcrSyRlMK",
        "outputId": "25f8e749-d841-4f29-ec0c-f0e23a623d42"
      },
      "execution_count": 59,
      "outputs": [
        {
          "output_type": "stream",
          "name": "stdout",
          "text": [
            "Predicted: \"Ankle boot\", Actual: \"Ankle boot\"\n"
          ]
        }
      ]
    },
    {
      "cell_type": "code",
      "source": [],
      "metadata": {
        "id": "kq2eVnbcYpOc"
      },
      "execution_count": null,
      "outputs": []
    }
  ]
}